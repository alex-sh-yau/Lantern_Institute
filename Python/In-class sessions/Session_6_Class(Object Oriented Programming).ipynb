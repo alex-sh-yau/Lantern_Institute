{
 "cells": [
  {
   "cell_type": "markdown",
   "metadata": {},
   "source": [
    "### Object-oriented programming \n",
    "\n",
    "- What is object-oriented programming: \n",
    "<br>\n",
    "\n",
    "\n",
    "\n",
    "- <b> Class:</b> A blueprint created by a programmer for an object. This defines a set of attributes that will characterize any object that is instantiated from this class.\n",
    "<br>\n",
    "\n",
    "\n",
    "- <b> Object:</b> An instance of a class. This is the realized version of the class, where the class is manifested in the program.\n",
    "<br>\n",
    "\n",
    "\n",
    "- In that sense, Classes and objects are the two main aspects of object oriented programming.\n",
    "<br>\n",
    "\n",
    "\n",
    "- <b> Fields:</b> Variables that belong to an object or class.\n",
    "<br>\n",
    "\n",
    "\n",
    "- <b> Methods:</b> Objects can also have functionality by using functions that belong to a class. Such functions are called methods of the class. \n",
    "<br>\n",
    "\n",
    "\n",
    "- <b> Attributes: </b> Collectively, the fields and methods can be referred to as the attributes of that class.\n"
   ]
  },
  {
   "cell_type": "code",
   "execution_count": 1,
   "metadata": {},
   "outputs": [
    {
     "name": "stdout",
     "output_type": "stream",
     "text": [
      "<__main__.Person object at 0x106b84630>\n"
     ]
    }
   ],
   "source": [
    "# Simple example :\n",
    "\n",
    "class Person:\n",
    "    pass  # An empty block \n",
    "\n",
    "p = Person() # An instance of the class. WIll see more ...\n",
    "\n",
    "print(p) # we create an object/instance of this class using the name of the class"
   ]
  },
  {
   "cell_type": "markdown",
   "metadata": {},
   "source": [
    "### Methods:\n",
    "\n",
    "Lets define a method for our class :"
   ]
  },
  {
   "cell_type": "code",
   "execution_count": 4,
   "metadata": {},
   "outputs": [
    {
     "name": "stdout",
     "output_type": "stream",
     "text": [
      "Hello, how are you?\n"
     ]
    }
   ],
   "source": [
    "class Person:\n",
    "    def say_hi(self):\n",
    "        print('Hello, how are you?')\n",
    "\n",
    "p = Person()\n",
    "p.say_hi()\n"
   ]
  },
  {
   "cell_type": "code",
   "execution_count": 5,
   "metadata": {},
   "outputs": [
    {
     "name": "stdout",
     "output_type": "stream",
     "text": [
      "Hello, how are you?\n"
     ]
    }
   ],
   "source": [
    "# The previous 2 lines can also be written as\n",
    "Person().say_hi()"
   ]
  },
  {
   "cell_type": "markdown",
   "metadata": {},
   "source": [
    "### Self:\n",
    "\n",
    "- Is a reference to objects that are made based on the class. \n",
    "\n",
    "\n",
    "- self will always be the first parameter, but it need not be the only one. \n",
    "\n",
    "\n",
    "- An extra first name that has to be added to the beginning of the parameter list,\n",
    "\n",
    "\n",
    "- This particular variable refers to the object itself, and by convention, it is given the name self.\n",
    "\n",
    "\n",
    "- The difference with ordinary functions \n"
   ]
  },
  {
   "cell_type": "markdown",
   "metadata": {},
   "source": [
    "###  The \\__init__ method\n",
    "\n",
    "- There are many method names which have special significance in Python classes.\\__init__ method is one of them. \n",
    "\n",
    "- It is also called __Constructor Method__ :\n",
    "\n",
    "- The \\__init__ method is run as soon as an object of a class is instantiated (i.e. created). \n",
    "\n",
    "- The method is useful to do any initialization (i.e. passing initial values to your object) you want to do with your object. \n",
    "\n"
   ]
  },
  {
   "cell_type": "code",
   "execution_count": 9,
   "metadata": {},
   "outputs": [
    {
     "name": "stdout",
     "output_type": "stream",
     "text": [
      "Hello, my name is Alireza\n"
     ]
    }
   ],
   "source": [
    "class Person:\n",
    "    def __init__(self, name):\n",
    "        self.name = name\n",
    "\n",
    "    def say_hi(self):\n",
    "        print('Hello, my name is {}'.format(self.name))\n",
    "\n",
    "p = Person('Alireza')\n",
    "p.say_hi()"
   ]
  },
  {
   "cell_type": "markdown",
   "metadata": {},
   "source": [
    "- the \\__init__ method is taking a parameter \"name\" (along with the usual self)\n",
    "\n",
    "- There are two different variables even though they are both called 'name':  __self.name__ and __name__"
   ]
  },
  {
   "cell_type": "markdown",
   "metadata": {},
   "source": [
    "### Class And Object Variables\n",
    "\n",
    "- The __data part__, i.e. fields, are ordinary variables \n",
    "<br>\n",
    "\n",
    "\n",
    "- This means that these are __valid within the context of the classes and objects only__. \n",
    "<br>\n",
    "\n",
    "\n",
    "- There are __two types of fields__ - class variables and object variables: Whether the class or the object owns the variables.\n",
    "<br>\n",
    "\n",
    "\n",
    "- __Class variables:__ are shared - they can be accessed by all instances of that class. There is only one copy of the class variable and when any one object makes a change to a class variable, that change will be seen by all the other instances.\n",
    "<br>\n",
    "\n",
    "\n",
    "- __Object variables:__ owned by each individual object/instance of the class. In this case, each object has its own copy of the field i.e. they are not shared and are not related in any way to the field by the same name in a different instance."
   ]
  },
  {
   "cell_type": "code",
   "execution_count": 3,
   "metadata": {},
   "outputs": [
    {
     "name": "stdout",
     "output_type": "stream",
     "text": [
      "(Initializing R2-D2)\n",
      "Greetings, my masters call me R2-D2.\n"
     ]
    },
    {
     "data": {
      "text/plain": [
       "1"
      ]
     },
     "execution_count": 3,
     "metadata": {},
     "output_type": "execute_result"
    }
   ],
   "source": [
    "# Example:\n",
    "\n",
    "class Robot:\n",
    "    \"\"\"Represents a robot, with a name.\"\"\"   # doc string\n",
    "\n",
    "# A class variable, counting the number of robots\n",
    "    population = 0\n",
    "\n",
    "\n",
    "    def __init__(self, name):\n",
    "        \"\"\"Initializes the data.\"\"\"\n",
    "        self.name = name\n",
    "        print(\"(Initializing {})\".format(self.name))\n",
    "\n",
    "        # When this robot is created, the robot\n",
    "        # adds to the population\n",
    "        Robot.population += 1\n",
    "\n",
    "\n",
    "    def say_hi(self):\n",
    "\n",
    "        print(\"Greetings, my masters call me {}.\".format(self.name))\n",
    "\n",
    "\n",
    "droid1 = Robot(\"R2-D2\")\n",
    "droid1.say_hi()\n",
    "\n",
    "Robot.population"
   ]
  },
  {
   "cell_type": "code",
   "execution_count": 4,
   "metadata": {},
   "outputs": [
    {
     "name": "stdout",
     "output_type": "stream",
     "text": [
      "(Initializing C-3PO)\n",
      "Greetings, my masters call me C-3PO.\n"
     ]
    },
    {
     "data": {
      "text/plain": [
       "(2, 2)"
      ]
     },
     "execution_count": 4,
     "metadata": {},
     "output_type": "execute_result"
    }
   ],
   "source": [
    "droid2 = Robot(\"C-3PO\")\n",
    "droid2.say_hi()\n",
    "droid2.population, Robot.population"
   ]
  },
  {
   "cell_type": "code",
   "execution_count": 5,
   "metadata": {},
   "outputs": [],
   "source": [
    "# Add more methods:\n",
    "\n",
    "class Robot:\n",
    "    \"\"\"Represents a robot, with a name.\"\"\"\n",
    "\n",
    "    # A class variable, counting the number of robots\n",
    "    population = 0\n",
    "\n",
    "    def __init__(self, name):  # The name variable belongs to the object (it is assigned using self) \n",
    "                                #and hence is an object variable.\n",
    "        \"\"\"Initializes the data.\"\"\"\n",
    "        self.name = name\n",
    "        print(\"(Initializing {})\".format(self.name))\n",
    "\n",
    "        # When this person is created, the robot\n",
    "        # adds to the population\n",
    "        Robot.population += 1\n",
    "        \n",
    "        \n",
    "    def say_hi(self):\n",
    "        \"\"\"Greeting by the robot.\n",
    "\n",
    "        Yeah, they can do that.\"\"\"\n",
    "        print(\"Greetings, my masters call me {}.\".format(self.name))\n",
    "        \n",
    "\n",
    "    def die(self):\n",
    "        print(\"{} is being destroyed!\".format(self.name))\n",
    "\n",
    "        Robot.population -= 1\n",
    "\n",
    "        if Robot.population == 0:\n",
    "            print(\"{} was the last one.\".format(self.name))\n",
    "        else:\n",
    "            print(\"There are still {:d} robots working.\".format(\n",
    "                Robot.population))\n",
    "\n",
    "\n",
    "\n",
    "    @classmethod\n",
    "    def how_many(cls):\n",
    "        \"\"\"Prints the current population.\"\"\"\n",
    "        print(\"We have {:d} robots.\".format(cls.population))\n"
   ]
  },
  {
   "cell_type": "code",
   "execution_count": 8,
   "metadata": {},
   "outputs": [
    {
     "name": "stdout",
     "output_type": "stream",
     "text": [
      "(Initializing R2-D2)\n",
      "Greetings, my masters call me R2-D2.\n",
      "We have 5 robots.\n",
      "(Initializing C-3PO)\n",
      "Greetings, my masters call me C-3PO.\n",
      "We have 6 robots.\n"
     ]
    }
   ],
   "source": [
    "droid1 = Robot(\"R2-D2\")\n",
    "droid1.say_hi()\n",
    "Robot.how_many()\n",
    "\n",
    "droid2 = Robot(\"C-3PO\")\n",
    "droid2.say_hi()\n",
    "Robot.how_many()\n"
   ]
  },
  {
   "cell_type": "code",
   "execution_count": 16,
   "metadata": {},
   "outputs": [
    {
     "name": "stdout",
     "output_type": "stream",
     "text": [
      "R2-D2 is being destroyed!\n",
      "There are still 1 robots working.\n",
      "We have 1 robots.\n"
     ]
    }
   ],
   "source": [
    "droid1.die()\n",
    "Robot.how_many()"
   ]
  },
  {
   "cell_type": "code",
   "execution_count": 9,
   "metadata": {},
   "outputs": [
    {
     "name": "stdout",
     "output_type": "stream",
     "text": [
      "C-3PO is being destroyed!\n",
      "There are still 5 robots working.\n"
     ]
    }
   ],
   "source": [
    "droid2.die()\n"
   ]
  },
  {
   "cell_type": "code",
   "execution_count": 10,
   "metadata": {},
   "outputs": [
    {
     "data": {
      "text/plain": [
       "5"
      ]
     },
     "execution_count": 10,
     "metadata": {},
     "output_type": "execute_result"
    }
   ],
   "source": [
    "Robot.population"
   ]
  },
  {
   "cell_type": "code",
   "execution_count": 11,
   "metadata": {},
   "outputs": [
    {
     "data": {
      "text/plain": [
       "4"
      ]
     },
     "execution_count": 11,
     "metadata": {},
     "output_type": "execute_result"
    }
   ],
   "source": [
    "Robot.population = Robot.population-1\n",
    "Robot.population"
   ]
  },
  {
   "cell_type": "markdown",
   "metadata": {},
   "source": [
    "### Points :\n",
    "-  Here, __population belongs to the Robot class__ and hence is a __class variable__. \n",
    "\n",
    "\n",
    "- The __name variable belongs to the object__ (it is assigned using self) and hence is an __object variable__.\n",
    "\n",
    "\n",
    "- __Thus, we refer to the population class variable as Robot.population and not as self.population__. \n",
    "\n",
    "\n",
    "- We refer to the object variable name using __self.name__ notation in the methods of that object. \n",
    "\n",
    "\n",
    "- The __how_many is a method that belongs to the class__ and not to the object. This means we can define it as a a __classmethod__.\n",
    "\n",
    "\n",
    "- @classmethod : A decorator: shortcut to calling a wrapper function. so applying the @classmethod decorator is the same as calling: __how_many = classmethod(how_many)__\n",
    "\n",
    "\n",
    "- Observe that the \\__init__ method is used to __initialize the Robot instance with a name__. In this method, we increase the population count by 1 since we have one more robot being added. Also observe that the __values of self.name is specific to each object__ which indicates the nature of object variables.\n",
    "\n",
    "\n",
    "- Remember, that you must refer to the __variables and methods of the same object using the self only__. This is called an __attribute reference__.\n",
    "\n",
    "\n",
    "- In this program, we also see the use of docstrings for classes as well as methods. We can access the class docstring at runtime using Robot.\\__doc\\__ and the method docstring as Robot.say_hi.\\__doc__\n",
    "\n",
    "\n",
    "- In the die method, we simply decrease the Robot.population count by 1.\n",
    "\n",
    "\n",
    "- All class members are __public__. One exception: If you use data members with names using the double underscore prefix such as \\__privatevar, Python uses name-mangling to effectively make it a private variable.\n",
    "\n"
   ]
  },
  {
   "cell_type": "code",
   "execution_count": 30,
   "metadata": {},
   "outputs": [],
   "source": [
    "# Can look at the documentation :\n",
    "Robot.__init__?"
   ]
  },
  {
   "cell_type": "code",
   "execution_count": 31,
   "metadata": {},
   "outputs": [
    {
     "name": "stdout",
     "output_type": "stream",
     "text": [
      "Help on method __init__ in module __main__:\n",
      "\n",
      "__init__(self, name) unbound __main__.Robot method\n",
      "    Initializes the data.\n",
      "\n"
     ]
    }
   ],
   "source": [
    "help(Robot.__init__)"
   ]
  },
  {
   "cell_type": "code",
   "execution_count": 27,
   "metadata": {},
   "outputs": [],
   "source": [
    "droid1.how_many?"
   ]
  },
  {
   "cell_type": "code",
   "execution_count": 28,
   "metadata": {},
   "outputs": [
    {
     "data": {
      "text/plain": [
       "'Represents a robot, with a name.'"
      ]
     },
     "execution_count": 28,
     "metadata": {},
     "output_type": "execute_result"
    }
   ],
   "source": [
    "Robot.__doc__"
   ]
  },
  {
   "cell_type": "markdown",
   "metadata": {},
   "source": [
    "### Inheritance\n",
    "\n",
    "- A way to reuse the code: implementing a type and subtype relationship between classes.\n",
    "\n",
    "\n",
    "- Example: teachers and students in a college: \n",
    "    - Common characteristics: name, age and address. \n",
    "    - specific characteristics: salary, courses and leaves for teachers and, marks and fees for students.\n",
    "\n",
    "\n",
    "- We can create a common class called __SchoolMember__ \n",
    "\n",
    "\n",
    "- teacher and student classes __inherit__ from this class, i.e. they will become __sub-types__ of this type (class)  \n",
    "\n",
    "\n",
    "- we can __add specific characteristics__ to these sub-types.\n",
    "\n",
    "- Advantages:\n",
    "    - Changes reflects on subtypes automatically but not vice versa\n",
    "    - __polymorphism__ :  a sub-type can be substituted in any situation where a parent type is expected, i.e. the object can be treated as an instance of the parent class.\n",
    "\n",
    "\n",
    "\n",
    "- __Base class__ (__superclass__): SchoolMember class  \n",
    "\n",
    "\n",
    "- __derived classes(subclasses)__: Teacher/Student classes"
   ]
  },
  {
   "cell_type": "code",
   "execution_count": 34,
   "metadata": {},
   "outputs": [],
   "source": [
    "# Define the parent class\n",
    "\n",
    "class SchoolMember:\n",
    "    '''Represents any school member.'''\n",
    "    def __init__(self, name, age):\n",
    "        ...\n",
    "        print('(Initialized SchoolMember: {})' ... )\n",
    "\n",
    "    def tell(self):\n",
    "        '''Tell my details.'''\n",
    "        ...\n",
    "\n"
   ]
  },
  {
   "cell_type": "code",
   "execution_count": 35,
   "metadata": {},
   "outputs": [],
   "source": [
    "class Teacher(SchoolMember):\n",
    "    '''Represents a teacher.'''\n",
    "    def __init__(self, name, age, salary):\n",
    "        ... # use the methods from the SchoolMember to initialize the name, age\n",
    "        ...  Other stuff     \n",
    "        print('(Initialized Teacher: {})'...)\n",
    "\n",
    "    def tell(self):\n",
    "        ... # use the methods from the SchoolMember\n",
    "        print('Salary: \"{:d}\"'...)\n",
    "\n",
    "\n",
    "class Student(SchoolMember):\n",
    "    '''Represents a student.'''\n",
    "    def __init__(self, name, age, marks):\n",
    "        ... # use the methods from the SchoolMember to initialize the name, age\n",
    "        ...  Other stuff     \n",
    "        print('(Initialized Student: {})'...)\n",
    "\n",
    "    def tell(self):\n",
    "        ... # use the methods from the SchoolMember\n",
    "        print('Marks: \"{:d}\"'...)\n",
    "\n"
   ]
  },
  {
   "cell_type": "code",
   "execution_count": 38,
   "metadata": {},
   "outputs": [
    {
     "name": "stdout",
     "output_type": "stream",
     "text": [
      "(Initialized SchoolMember: Mrs. Smith)\n",
      "(Initialized Teacher: Mrs. Smith)\n"
     ]
    }
   ],
   "source": [
    "# Try it here\n",
    "t = Teacher('Mrs. Smith', 40, 30000)"
   ]
  },
  {
   "cell_type": "code",
   "execution_count": 39,
   "metadata": {},
   "outputs": [
    {
     "name": "stdout",
     "output_type": "stream",
     "text": [
      "(Initialized SchoolMember: John)\n",
      "(Initialized Student: John)\n"
     ]
    }
   ],
   "source": [
    "s = Student('John', 25, 75)\n"
   ]
  },
  {
   "cell_type": "code",
   "execution_count": 41,
   "metadata": {},
   "outputs": [
    {
     "name": "stdout",
     "output_type": "stream",
     "text": [
      "Name:\"Mrs. Smith\" Age:\"40\"\n",
      "Salary: \"30000\"\n",
      "-----\n",
      "Name:\"John\" Age:\"25\"\n",
      "Marks: \"75\"\n",
      "-----\n"
     ]
    }
   ],
   "source": [
    "members = [t, s]\n",
    "for member in members:\n",
    "    # Works for both Teachers and Students\n",
    "    member.tell()\n",
    "    print(\"------\")"
   ]
  },
  {
   "cell_type": "markdown",
   "metadata": {},
   "source": [
    "### Static method:\n",
    "\n",
    "- We have three different methods:\n",
    "    - Instance Methods: \n",
    "        - When instantiating an object out of a class\n",
    "        - takes one parameter: self, which points to an instance of the class\n",
    "    \n",
    "    - Class method: \n",
    "        - Instead of accepting a self parameter, takes a cls parameter that points to the class—and not the object instance\n",
    "        - Only has access to this cls argument, it can’t modify object instance state.\n",
    "        - However, class methods can still modify class state that applies across all instances of the class.\n",
    "                   \n",
    "    - Static method: \n",
    "        - takes neither a self nor a cls parameter \n",
    "        - can take an arbitrary number of other parameters\n",
    "        - can neither modify object state nor class state: restricted in what data they can access "
   ]
  },
  {
   "cell_type": "code",
   "execution_count": 66,
   "metadata": {},
   "outputs": [],
   "source": [
    "class Methods():\n",
    "    def instance_method(self,x):\n",
    "        print \"executing instance_method(%s,%s)\"%(self,x)\n",
    "\n",
    "    @classmethod\n",
    "    def class_method(cls,x):\n",
    "        print \"executing class_method(%s,%s)\"%(cls,x)\n",
    "\n",
    "    @staticmethod\n",
    "    def static_method(x):\n",
    "        print \"executing static_method(%s)\"%x    "
   ]
  },
  {
   "cell_type": "code",
   "execution_count": 67,
   "metadata": {},
   "outputs": [],
   "source": [
    "Meth=Methods()"
   ]
  },
  {
   "cell_type": "code",
   "execution_count": 68,
   "metadata": {},
   "outputs": [
    {
     "name": "stdout",
     "output_type": "stream",
     "text": [
      "executing instance_method(<__main__.Methods instance at 0x105a9c098>,1)\n"
     ]
    }
   ],
   "source": [
    "Meth.instance_method(1)"
   ]
  },
  {
   "cell_type": "code",
   "execution_count": 69,
   "metadata": {},
   "outputs": [
    {
     "name": "stdout",
     "output_type": "stream",
     "text": [
      "executing class_method(__main__.Methods,1)\n"
     ]
    }
   ],
   "source": [
    "Meth.class_method(1)"
   ]
  },
  {
   "cell_type": "code",
   "execution_count": 70,
   "metadata": {},
   "outputs": [
    {
     "name": "stdout",
     "output_type": "stream",
     "text": [
      "executing static_method(1)\n"
     ]
    }
   ],
   "source": [
    "Meth.static_method(1)"
   ]
  },
  {
   "cell_type": "code",
   "execution_count": 30,
   "metadata": {},
   "outputs": [],
   "source": [
    "# Add more methods:\n",
    "\n",
    "class Robot:\n",
    "    \"\"\"Represents a robot, with a name.\"\"\"\n",
    "\n",
    "    # A class variable, counting the number of robots\n",
    "    population = 0\n",
    "\n",
    "    def __init__(self, name):  # The name variable belongs to the object (it is assigned using self) \n",
    "                                #and hence is an object variable.\n",
    "        \"\"\"Initializes the data.\"\"\"\n",
    "        self.name = name\n",
    "        print(\"(Initializing {})\".format(self.name))\n",
    "\n",
    "        # When this person is created, the robot\n",
    "        # adds to the population\n",
    "        Robot.population += 1\n",
    "        \n",
    "        \n",
    "    def say_hi(self):\n",
    "        \"\"\"Greeting by the robot.\n",
    "\n",
    "        Yeah, they can do that.\"\"\"\n",
    "        print(\"Greetings, my masters call me {}.\".format(self.name))\n",
    "        \n",
    "\n",
    "    def die(self):\n",
    "        print(\"{} is being destroyed!\".format(self.name))\n",
    "\n",
    "        Robot.population -= 1\n",
    "\n",
    "        if Robot.population == 0:\n",
    "            print(\"{} was the last one.\".format(self.name))\n",
    "        else:\n",
    "            print(\"There are still {:d} robots working.\".format(\n",
    "                Robot.population))\n",
    "\n",
    "\n",
    "    @staticmethod\n",
    "    def sky(n):\n",
    "        print (\"Sky is blue !\")\n",
    "        #print (\"Sky is blue and we have {} robots !\".format(cls.population))\n",
    "        #print (\"Sky is blue and this is an arbitrary number: {} !\".format(n))\n",
    "\n",
    "        \n",
    "    @classmethod\n",
    "    def how_many(cls):\n",
    "        \"\"\"Prints the current population.\"\"\"\n",
    "        print(\"We have {:d} robots.\".format(cls.population))\n"
   ]
  },
  {
   "cell_type": "code",
   "execution_count": 31,
   "metadata": {},
   "outputs": [
    {
     "name": "stdout",
     "output_type": "stream",
     "text": [
      "(Initializing R2-D2)\n",
      "Greetings, my masters call me R2-D2.\n",
      "We have 1 robots.\n",
      "Sky is blue !\n"
     ]
    }
   ],
   "source": [
    "droid1 = Robot(\"R2-D2\")\n",
    "droid1.say_hi()\n",
    "Robot.how_many()\n",
    "Robot.sky(2)\n"
   ]
  },
  {
   "cell_type": "code",
   "execution_count": null,
   "metadata": {},
   "outputs": [],
   "source": []
  },
  {
   "cell_type": "code",
   "execution_count": null,
   "metadata": {},
   "outputs": [],
   "source": []
  }
 ],
 "metadata": {
  "kernelspec": {
   "display_name": "Python 3",
   "language": "python",
   "name": "python3"
  },
  "language_info": {
   "codemirror_mode": {
    "name": "ipython",
    "version": 3
   },
   "file_extension": ".py",
   "mimetype": "text/x-python",
   "name": "python",
   "nbconvert_exporter": "python",
   "pygments_lexer": "ipython3",
   "version": "3.7.1"
  }
 },
 "nbformat": 4,
 "nbformat_minor": 2
}
