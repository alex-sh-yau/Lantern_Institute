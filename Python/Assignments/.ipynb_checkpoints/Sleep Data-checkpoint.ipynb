{
 "cells": [
  {
   "cell_type": "markdown",
   "metadata": {},
   "source": [
    "# Sleep data :\n",
    "\n",
    "## Part 1: warm up !"
   ]
  },
  {
   "cell_type": "markdown",
   "metadata": {},
   "source": [
    "### Download and import data from: \n",
    "\n",
    "    https://www.dropbox.com/s/mtwl4nyo3lp00gy/sleepdata.csv?dl=0\n"
   ]
  },
  {
   "cell_type": "markdown",
   "metadata": {},
   "source": [
    "### Bedtime Hours:\n",
    "\n",
    "What is  most common hours? You can make a histogram of bedtime hour !\n"
   ]
  },
  {
   "cell_type": "code",
   "execution_count": 1,
   "metadata": {},
   "outputs": [
    {
     "name": "stdout",
     "output_type": "stream",
     "text": [
      "/bin/sh: -c: line 0: syntax error near unexpected token `img/1.png'\r\n",
      "/bin/sh: -c: line 0: `[title](img/1.png)'\r\n"
     ]
    }
   ],
   "source": [
    "![title](img/1.png)"
   ]
  },
  {
   "cell_type": "markdown",
   "metadata": {},
   "source": [
    "### Conclusion ?\n",
    "\n",
    "What does the plot show about the sleep pattern ?\n",
    "\n",
    "Clearly, I should be sleeping earlier. According to this graph, the most common hour I fall asleep is 2 in the morning. However, I should be mindful of bias since I am less likely to initialize the Sleep Cycle app when I’m super tired - as is often the case when I fall asleep before midnight."
   ]
  },
  {
   "cell_type": "markdown",
   "metadata": {},
   "source": [
    "### Sleep Duration:\n",
    "\n",
    "How long slept for when fell asleep. \n",
    "\n",
    "Can plot a histogram based on minutes of sleep"
   ]
  },
  {
   "cell_type": "code",
   "execution_count": null,
   "metadata": {},
   "outputs": [],
   "source": [
    "#![title](img/2.png)"
   ]
  },
  {
   "cell_type": "markdown",
   "metadata": {},
   "source": [
    "### Conclusion ?\n",
    "\n",
    "An approximately normal distribution as expected with the large sample size. On average, I slept about 355 minutes, or 5 hours and 55 minutes per night. Take note that the mean is pulled up by an outlier, the result of a 12 hour hibernation on a warm summer night last year."
   ]
  },
  {
   "cell_type": "markdown",
   "metadata": {},
   "source": [
    "### Sleep Duration Over Time:\n",
    "\n",
    "How has the duration of changed over time ?\n",
    "\n",
    "__Note that you might want to fit a regression curve to the scatter plot you make !__"
   ]
  },
  {
   "cell_type": "markdown",
   "metadata": {},
   "source": [
    "__Now modify your plot to include sleep quality as a new dimension !__"
   ]
  },
  {
   "cell_type": "code",
   "execution_count": null,
   "metadata": {},
   "outputs": [],
   "source": [
    "#![title](img/3.png)"
   ]
  },
  {
   "cell_type": "markdown",
   "metadata": {},
   "source": [
    "### Conclusion ?\n",
    "\n",
    "Can you notice any change around August 2013 ?\n"
   ]
  },
  {
   "cell_type": "markdown",
   "metadata": {},
   "source": [
    "### Sleep Quality Over Time:\n",
    "\n",
    "Sleep Quality is affected by two factors:\n",
    "\n",
    "    - Total time asleep\n",
    "    - Amount of movement\n",
    "\n",
    "\n",
    "Since we don’t have access to the movement data, we can’t verify the relationship between movement and sleep quality. \n",
    "\n",
    "However, we can check the relationship between sleep duration and sleep quality. Create a visualization of that !"
   ]
  },
  {
   "cell_type": "code",
   "execution_count": null,
   "metadata": {},
   "outputs": [],
   "source": [
    "#![title](img/4.png)"
   ]
  },
  {
   "cell_type": "markdown",
   "metadata": {},
   "source": [
    "### Does duration mean quality ?\n",
    "\n",
    "Given this information, it is possible for sleep quality to increase even when sleep duration decreases, especially if there is less movement in bed ! S\n",
    "\n",
    "\n",
    " plot sleep quality over time to find out if this is true !"
   ]
  },
  {
   "cell_type": "code",
   "execution_count": null,
   "metadata": {},
   "outputs": [],
   "source": [
    "#![title](img/5.png)"
   ]
  },
  {
   "cell_type": "markdown",
   "metadata": {},
   "source": [
    "## Part 2: A similar realistic situation:\n",
    "\n",
    "- Lets conisder a similar where we have got sleep data from a devices. Expand on what you did above and come with extra analysis of yours. Make conclusions based on your observations\n",
    "\n",
    "- Download the data: https://www.dropbox.com/s/7fdmc0l3410g8hu/sleep-export2.csv?dl=0\n",
    "\n",
    "- Here are some extra info you might need:\n",
    "     - HealthConstants class: \n",
    "        https://developer.samsung.com/onlinedocs/health/index.html?com/samsung/android/sdk/healthdata/HealthConstants.html\n",
    "        \n",
    "    - Interface HealthConstants.Exercise :\n",
    "        https://developer.samsung.com/onlinedocs/health/index.html?com/samsung/android/sdk/healthdata/HealthConstants.Exercise.html\n",
    "    \n",
    "    - Some reading:\n",
    "        https://developer.samsung.com/health/android/data/guide\n",
    "        https://developer.samsung.com/health/android\n",
    "        https://developer.samsung.com/html/techdoc/ProgrammingGuide_SHealthService.pdf\n",
    "        http://developer.samsung.com/onlinedocs/health/index.html?com/samsung/android/sdk/healthdata/HealthConstants.Sleep.html\n",
    "\n",
    "        https://currentmillis.com/tutorials/system-currentTimeMillis.html#utc"
   ]
  },
  {
   "cell_type": "markdown",
   "metadata": {},
   "source": [
    "## Part 3 (optional ... I wouldn't do that if I were you !) : A messy realistic situation:\n",
    "\n",
    "- Lets conisder a more realistic situation where we have got sleep data from two different devices but off the same source !\n",
    "\n",
    "- The data is not clean. It has missing records; The format is different;\n",
    "\n",
    "- The goal here is to develop a script that cleans up and puts the data in a format we can easily use. So, we need to make sense of the data and also clean it up for analysis...\n",
    "\n",
    "- Download the data here : https://www.dropbox.com/s/o6mbznc047z1pxs/sleep-export.csv?dl=0"
   ]
  },
  {
   "cell_type": "code",
   "execution_count": null,
   "metadata": {},
   "outputs": [],
   "source": []
  }
 ],
 "metadata": {
  "kernelspec": {
   "display_name": "Python 3",
   "language": "python",
   "name": "python3"
  },
  "language_info": {
   "codemirror_mode": {
    "name": "ipython",
    "version": 3
   },
   "file_extension": ".py",
   "mimetype": "text/x-python",
   "name": "python",
   "nbconvert_exporter": "python",
   "pygments_lexer": "ipython3",
   "version": "3.6.9"
  }
 },
 "nbformat": 4,
 "nbformat_minor": 2
}
