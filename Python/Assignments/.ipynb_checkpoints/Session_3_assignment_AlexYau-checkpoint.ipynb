{
 "cells": [
  {
   "cell_type": "code",
   "execution_count": 1,
   "metadata": {},
   "outputs": [],
   "source": [
    "import numpy as np\n",
    "import matplotlib.pyplot as plt"
   ]
  },
  {
   "cell_type": "markdown",
   "metadata": {},
   "source": [
    "### Sorting a List Into Buckets  - Making Choices"
   ]
  },
  {
   "cell_type": "code",
   "execution_count": 2,
   "metadata": {},
   "outputs": [
    {
     "name": "stdout",
     "output_type": "stream",
     "text": [
      "['inflammation-01.csv', 'inflammation-02.csv']\n",
      "['small-01.csv', 'small-02.csv']\n",
      "['myscript.py']\n"
     ]
    }
   ],
   "source": [
    "files = ['inflammation-01.csv', 'myscript.py', 'inflammation-02.csv', 'small-01.csv', 'small-02.csv']\n",
    "large_files = []\n",
    "small_files = []\n",
    "other_files = []\n",
    "\n",
    "for i in files:\n",
    "    if i.startswith('inflammation'):\n",
    "        large_files.append(i)\n",
    "    elif i.startswith('small'):\n",
    "        small_files.append(i)\n",
    "    else:\n",
    "        other_files.append(i)\n",
    "\n",
    "print(large_files)\n",
    "print(small_files)\n",
    "print(other_files)"
   ]
  },
  {
   "cell_type": "markdown",
   "metadata": {},
   "source": [
    "### Fixing and Testing - Defensive Programming"
   ]
  },
  {
   "cell_type": "code",
   "execution_count": 3,
   "metadata": {},
   "outputs": [],
   "source": [
    "def range_overlap(ranges):\n",
    "    '''Return common overlap among a set of [low, high] ranges.'''\n",
    "    if len(ranges) <= 0:\n",
    "        return None\n",
    "    lowest = ranges[0][0]\n",
    "    highest = ranges[0][1]\n",
    "    if len(ranges) == 1:\n",
    "        return (lowest, highest)\n",
    "    for (low, high) in ranges[1:]:\n",
    "        if low >= highest or high <= lowest:\n",
    "            return None\n",
    "        else:\n",
    "            lowest = max(lowest, low)\n",
    "            highest = min(highest, high)\n",
    "            return (lowest, highest)\n",
    "def test_range_overlap():\n",
    "    assert range_overlap([]) == None\n",
    "    assert range_overlap([ (0.0, 1.0), (5.0, 6.0) ]) == None\n",
    "    assert range_overlap([ (0.0, 1.0), (1.0, 2.0) ]) == None\n",
    "    assert range_overlap([ (0.0, 1.0) ]) == (0.0, 1.0)\n",
    "    assert range_overlap([ (2.0, 3.0), (2.0, 4.0) ]) == (2.0, 3.0)\n",
    "    assert range_overlap([ (0.0, 1.0), (0.0, 2.0), (-1.0, 1.0) ]) == (0.0, 1.0)"
   ]
  },
  {
   "cell_type": "code",
   "execution_count": 4,
   "metadata": {},
   "outputs": [
    {
     "data": {
      "text/plain": [
       "(0.0, 1.0)"
      ]
     },
     "execution_count": 4,
     "metadata": {},
     "output_type": "execute_result"
    }
   ],
   "source": [
    "range_overlap([ (0.0, 1.0), (0.0, 2.0), (-1.0, 1.0) ])"
   ]
  },
  {
   "cell_type": "code",
   "execution_count": 5,
   "metadata": {},
   "outputs": [],
   "source": [
    "test_range_overlap()"
   ]
  },
  {
   "cell_type": "markdown",
   "metadata": {},
   "source": [
    "### You do the rest - Command-Line Programs"
   ]
  },
  {
   "cell_type": "raw",
   "metadata": {},
   "source": [
    "import sys\n",
    "import numpy\n",
    "\n",
    "def main():\n",
    "    script = sys.argv[0]\n",
    "    action = sys.argv[1]\n",
    "    filenames = sys.argv[2:]\n",
    "\n",
    "    for f in filenames:\n",
    "        data = numpy.loadtxt(f, delimiter=',')\n",
    "        \n",
    "        # You do the rest!\n",
    "        if action == '--min':\n",
    "            print(numpy.min(data, axis=1))\n",
    "        elif action == '--mean':\n",
    "            print(numpy.mean(data, axis=1))\n",
    "        elif action == '--max':\n",
    "            print(numpy.max(data, axis=1))\n",
    "        else:\n",
    "            raise ValueError(\"Invalid flag\")\n",
    "\n",
    "        if not filenames:\n",
    "            raise ValueError(\"Please enter a data file\")\n",
    "            \n",
    "if __name__ == '__main__':\n",
    "   main()"
   ]
  },
  {
   "cell_type": "raw",
   "metadata": {},
   "source": [
    "import sys\n",
    "import numpy\n",
    "\n",
    "def perform(action, data):\n",
    "    if action == '--min':\n",
    "        print(numpy.min(data, axis=1))\n",
    "    elif action == '--mean':\n",
    "        print(numpy.mean(data, axis=1))\n",
    "    elif action == '--max':\n",
    "        print(numpy.max(data, axis=1))\n",
    "\n",
    "def loadfile(file):\n",
    "    data = numpy.loadtxt(file, delimiter=',')\n",
    "    return data\n",
    "\n",
    "def main():\n",
    "    script = sys.argv[0]\n",
    "    action = sys.argv[1]\n",
    "    filenames = sys.argv[2:]\n",
    "    \n",
    "    if action not in ['--min', '--mean', '--max']:\n",
    "        raise ValueError(\"Invalid flag\")\n",
    "    if not filenames:\n",
    "        raise ValueError(\"Please enter a data file\")\n",
    "    \n",
    "    for f in filenames:\n",
    "        data = loadfile(f)\n",
    "        perform(action, data)\n",
    "            \n",
    "if __name__ == '__main__':\n",
    "   main()"
   ]
  },
  {
   "cell_type": "raw",
   "metadata": {},
   "source": [
    "import sys\n",
    "import numpy\n",
    "\n",
    "def perform(action, data):\n",
    "    if action == '--min':\n",
    "        print(numpy.min(data, axis=1))\n",
    "    elif action == '--mean':\n",
    "        print(numpy.mean(data, axis=1))\n",
    "    elif action == '--max':\n",
    "        print(numpy.max(data, axis=1))\n",
    "\n",
    "def loadfile(file):\n",
    "    data = numpy.loadtxt(file, delimiter=',')\n",
    "    return data\n",
    "\n",
    "def main():\n",
    "    script = sys.argv[0]\n",
    "    action = sys.argv[1]\n",
    "    filenames = sys.argv[2:]\n",
    "    \n",
    "    if action not in ['--min', '--mean', '--max']:\n",
    "        raise ValueError(\"Invalid flag\")\n",
    "\n",
    "    if not filenames:\n",
    "        data = loadfile(sys.stdin)\n",
    "        perform(action, data)\n",
    "    else:\n",
    "        for f in filenames:\n",
    "            data = loadfile(f)\n",
    "            perform(action, data)\n",
    "            \n",
    "if __name__ == '__main__':\n",
    "   main()"
   ]
  },
  {
   "cell_type": "markdown",
   "metadata": {},
   "source": [
    "### Two Friends' lunch spot"
   ]
  },
  {
   "cell_type": "code",
   "execution_count": 6,
   "metadata": {},
   "outputs": [
    {
     "name": "stdout",
     "output_type": "stream",
     "text": [
      "Eatsa, Japa Curry have the same least combined rank of 3.\n"
     ]
    }
   ],
   "source": [
    "# restaurants_1 = ['El Farolito', 'Japa Curry', 'Eatsa']\n",
    "# restaurants_2 = ['Japa Curry', 'Eatsa', 'Ayola', 'Working Girls']\n",
    "\n",
    "# restaurants_1 = ['El Farolito', 'Japa Curry']\n",
    "# restaurants_2 = ['Ayola', 'Working Girls']\n",
    "\n",
    "restaurants_1 = ['Eatsa', 'Japa Curry', 'Ayola']\n",
    "restaurants_2 = ['Japa Curry', 'Eatsa', 'Ayola', 'Working Girls']\n",
    "\n",
    "names = []\n",
    "ranks = []\n",
    "same = []\n",
    "\n",
    "for n in restaurants_1:\n",
    "    if n in restaurants_2:\n",
    "        names.append(n)\n",
    "        ranks.append(restaurants_1.index(n) + restaurants_2.index(n))\n",
    "same_rank = [i for i, x in enumerate(ranks) if x == min(ranks)]\n",
    "\n",
    "if not names:\n",
    "    print('yummy')\n",
    "elif len(same_rank) > 1:\n",
    "    for i in same_rank:\n",
    "        same.append(names[i])\n",
    "    print(*same, sep=', ', end='')\n",
    "    print(' have the same least combined rank of ' + str(2 + ranks[0]) + '.')\n",
    "else:\n",
    "    choice = ranks.index(min(ranks))\n",
    "    print(names[choice] + '. Because it has the least combined rank of ' + str(2 + ranks[choice]) \n",
    "          + ' (' + str(1 + restaurants_1.index(names[choice])) + ' in restaurants_1 and ' \n",
    "          + str(1 + restaurants_2.index(names[choice])) + ' in restaurants_2).')"
   ]
  },
  {
   "cell_type": "markdown",
   "metadata": {},
   "source": [
    "### Greatest Common Divisor"
   ]
  },
  {
   "cell_type": "code",
   "execution_count": 7,
   "metadata": {},
   "outputs": [],
   "source": [
    "def gcd(a,b):\n",
    "    r = a%b\n",
    "    if r == 0:\n",
    "        return b\n",
    "    if r == 1:\n",
    "        return 1\n",
    "    return gcd(b,r)"
   ]
  },
  {
   "cell_type": "code",
   "execution_count": 8,
   "metadata": {},
   "outputs": [
    {
     "data": {
      "text/plain": [
       "5"
      ]
     },
     "execution_count": 8,
     "metadata": {},
     "output_type": "execute_result"
    }
   ],
   "source": [
    "gcd(100,55)"
   ]
  },
  {
   "cell_type": "markdown",
   "metadata": {},
   "source": [
    "### Koch Curve"
   ]
  },
  {
   "cell_type": "code",
   "execution_count": 9,
   "metadata": {},
   "outputs": [],
   "source": [
    "import turtle\n",
    "from turtle import *\n",
    "\n",
    "def draw_koch(x):\n",
    "    if x < 3:\n",
    "        forward(x)\n",
    "    else:\n",
    "        for turn in [60, -120, 60, 0]:\n",
    "            draw_koch(x/3)\n",
    "            left(turn)\n",
    "            \n",
    "def draw_snowflake(x):\n",
    "    for turn in [-120, -120, -120]:\n",
    "        draw_koch(x)\n",
    "        left(turn)\n",
    "\n",
    "draw_snowflake(100)\n",
    "        \n",
    "turtle.done()"
   ]
  }
 ],
 "metadata": {
  "kernelspec": {
   "display_name": "Python 3",
   "language": "python",
   "name": "python3"
  },
  "language_info": {
   "codemirror_mode": {
    "name": "ipython",
    "version": 3
   },
   "file_extension": ".py",
   "mimetype": "text/x-python",
   "name": "python",
   "nbconvert_exporter": "python",
   "pygments_lexer": "ipython3",
   "version": "3.6.9"
  }
 },
 "nbformat": 4,
 "nbformat_minor": 2
}
