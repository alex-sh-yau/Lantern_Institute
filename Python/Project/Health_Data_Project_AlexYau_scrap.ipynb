{
 "cells": [
  {
   "cell_type": "code",
   "execution_count": 1,
   "metadata": {},
   "outputs": [],
   "source": [
    "import pandas as pd\n",
    "import numpy as np\n",
    "import matplotlib.pyplot as plt\n",
    "import seaborn as sns\n",
    "\n",
    "from datetime import datetime, timedelta\n",
    "pd.set_option('display.max_columns', 5000)"
   ]
  },
  {
   "cell_type": "code",
   "execution_count": null,
   "metadata": {},
   "outputs": [],
   "source": []
  },
  {
   "cell_type": "code",
   "execution_count": null,
   "metadata": {},
   "outputs": [],
   "source": []
  },
  {
   "cell_type": "code",
   "execution_count": 2,
   "metadata": {},
   "outputs": [],
   "source": [
    "sleep_df = pd.read_csv('../Project/sleep-export2.csv')\n",
    "exercise_df = pd.read_csv('../Project/exercise.csv')"
   ]
  },
  {
   "cell_type": "code",
   "execution_count": null,
   "metadata": {},
   "outputs": [],
   "source": [
    "sleep_df.head()\n",
    "exercise_df.head()"
   ]
  },
  {
   "cell_type": "code",
   "execution_count": null,
   "metadata": {},
   "outputs": [],
   "source": [
    "sleep_df['com.samsung.health.sleep.start_time'] = pd.to_datetime(sleep_df['com.samsung.health.sleep.start_time'], unit='ms')\n",
    "sleep_df['com.samsung.health.sleep.end_time'] = pd.to_datetime(sleep_df['com.samsung.health.sleep.end_time'], unit='ms')\n",
    "sleep_df['com.samsung.health.sleep.create_time'] = pd.to_datetime(sleep_df['com.samsung.health.sleep.create_time'], unit='ms')\n",
    "sleep_df['com.samsung.health.sleep.update_time'] = pd.to_datetime(sleep_df['com.samsung.health.sleep.update_time'], unit='ms')"
   ]
  },
  {
   "cell_type": "code",
   "execution_count": null,
   "metadata": {},
   "outputs": [],
   "source": [
    "sleep_df['com.samsung.health.sleep.start_time'].sort_values()"
   ]
  },
  {
   "cell_type": "code",
   "execution_count": null,
   "metadata": {},
   "outputs": [],
   "source": [
    "exercise_df['start_time'].sort_values()"
   ]
  },
  {
   "cell_type": "code",
   "execution_count": null,
   "metadata": {},
   "outputs": [],
   "source": [
    "sleep_df['Date'] = sleep_df['com.samsung.health.sleep.end_time'].dt.date\n",
    "sleep_df['Sleep_Start'] = sleep_df['com.samsung.health.sleep.start_time'].dt.time\n",
    "sleep_df['Sleep_End'] = sleep_df['com.samsung.health.sleep.end_time'].dt.time"
   ]
  },
  {
   "cell_type": "code",
   "execution_count": null,
   "metadata": {},
   "outputs": [],
   "source": [
    "exercise_df['start_time'] = pd.to_datetime(exercise_df['start_time'])\n",
    "exercise_df['end_time'] = pd.to_datetime(exercise_df['end_time'])"
   ]
  },
  {
   "cell_type": "code",
   "execution_count": null,
   "metadata": {},
   "outputs": [],
   "source": [
    "exercise_df.groupby('time_offset').count()"
   ]
  },
  {
   "cell_type": "code",
   "execution_count": null,
   "metadata": {},
   "outputs": [],
   "source": [
    "sleep_df.groupby('com.samsung.health.sleep.time_offset').count()"
   ]
  },
  {
   "cell_type": "code",
   "execution_count": null,
   "metadata": {},
   "outputs": [],
   "source": [
    "# Converting times to one timezone doesn't make sense for analysis at the moment - let's leave this for later\n",
    "# This step should be done before extracting dates and times for merging/analysis\n",
    "\n",
    "# exercise_df.loc[exercise_df.time_offset == 'UTC-0400', 'start_time'] = exercise_df[exercise_df['time_offset'].isin(['UTC-0400'])]['start_time'] - timedelta(hours=1)\n",
    "# exercise_df.loc[exercise_df.time_offset == 'UTC-0600', 'start_time'] = exercise_df[exercise_df['time_offset'] == 'UTC-0600']['start_time'] - timedelta(hours=3)\n",
    "# exercise_df.loc[exercise_df.time_offset == 'UTC-0700', 'start_time'] = exercise_df[exercise_df['time_offset'] == 'UTC-0700']['start_time'] - timedelta(hours=4)\n",
    "# exercise_df.loc[exercise_df.time_offset == 'UTC-0400', 'end_time'] = exercise_df[exercise_df['time_offset'].isin(['UTC-0400'])]['end_time'] - timedelta(hours=1)\n",
    "# exercise_df.loc[exercise_df.time_offset == 'UTC-0600', 'end_time'] = exercise_df[exercise_df['time_offset'] == 'UTC-0600']['end_time'] - timedelta(hours=3)\n",
    "# exercise_df.loc[exercise_df.time_offset == 'UTC-0700', 'end_time'] = exercise_df[exercise_df['time_offset'] == 'UTC-0700']['end_time'] - timedelta(hours=4)"
   ]
  },
  {
   "cell_type": "code",
   "execution_count": null,
   "metadata": {},
   "outputs": [],
   "source": [
    "exercise_df['Date'] = exercise_df['start_time'].dt.date\n",
    "exercise_df['Exercise_Start'] = exercise_df['start_time'].dt.time\n",
    "exercise_df['Exercise_End'] = exercise_df['end_time'].dt.time"
   ]
  },
  {
   "cell_type": "code",
   "execution_count": null,
   "metadata": {},
   "outputs": [],
   "source": [
    "exercise_df[['Date', 'time_offset']].sort_values('Date')"
   ]
  },
  {
   "cell_type": "code",
   "execution_count": null,
   "metadata": {},
   "outputs": [],
   "source": [
    "sleep_df[['Date', 'com.samsung.health.sleep.time_offset']].sort_values('Date')"
   ]
  },
  {
   "cell_type": "code",
   "execution_count": null,
   "metadata": {},
   "outputs": [],
   "source": [
    "exercise_df[['start_time', 'time_offset']].sort_values('start_time')"
   ]
  },
  {
   "cell_type": "code",
   "execution_count": null,
   "metadata": {},
   "outputs": [],
   "source": [
    "sleep_df['Sleep_Start_Hour'] = sleep_df['com.samsung.health.sleep.start_time'].dt.hour\n",
    "sleep_df['Sleep_End_Hour'] = sleep_df['com.samsung.health.sleep.end_time'].dt.hour\n",
    "exercise_df['Exercise_Start_Hour'] = exercise_df['start_time'].dt.hour\n",
    "exercise_df['Exercise_End_Hour'] = exercise_df['end_time'].dt.hour"
   ]
  },
  {
   "cell_type": "code",
   "execution_count": null,
   "metadata": {},
   "outputs": [],
   "source": []
  },
  {
   "cell_type": "code",
   "execution_count": null,
   "metadata": {},
   "outputs": [],
   "source": []
  },
  {
   "cell_type": "code",
   "execution_count": null,
   "metadata": {},
   "outputs": [],
   "source": [
    "merged_1 = pd.merge(sleep_df, exercise_df, how='outer', left_on=['Date','Sleep_End_Hour'], right_on=['Date','Exercise_Start_Hour'])\n",
    "merged_2 = pd.merge(sleep_df, exercise_df, how='outer', left_on=['Date','Sleep_Start_Hour'], right_on=['Date','Exercise_End_Hour'])"
   ]
  },
  {
   "cell_type": "code",
   "execution_count": null,
   "metadata": {},
   "outputs": [],
   "source": [
    "merged = pd.concat([merged_outer,merged_outer_2]).drop_duplicates()"
   ]
  }
 ],
 "metadata": {
  "kernelspec": {
   "display_name": "Python 3",
   "language": "python",
   "name": "python3"
  },
  "language_info": {
   "codemirror_mode": {
    "name": "ipython",
    "version": 3
   },
   "file_extension": ".py",
   "mimetype": "text/x-python",
   "name": "python",
   "nbconvert_exporter": "python",
   "pygments_lexer": "ipython3",
   "version": "3.6.9"
  }
 },
 "nbformat": 4,
 "nbformat_minor": 2
}
